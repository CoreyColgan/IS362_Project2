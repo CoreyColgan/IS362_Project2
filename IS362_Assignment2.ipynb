{
 "cells": [
  {
   "cell_type": "code",
   "execution_count": 13,
   "metadata": {},
   "outputs": [],
   "source": [
    "# Corey Colgan \n",
    "# IS362 Fall 2019 Assignment 2\n",
    "\n",
    "# We will look at data structures, specifically the zip() function\n",
    "# The zip() function will return an object of tuples, pairing them together on the order that they are iterated.\n",
    "\n",
    "# As an example, let's create 3 tuples with various information regarding vehicles\n",
    "\n",
    "Make = ('Honda', 'Chevrolet', 'Ford', 'Subaru')\n",
    "Model = ('Civic', 'Silverado', 'Escort', 'Forester')\n",
    "Color = ('Blue', 'White', 'Red', 'Yellow')\n",
    "\n",
    "# Now, we want to pair this information together, to provide a tuple of the information for each vehicle described. \n",
    "# Using the zip() function to do so\n",
    "\n",
    "Vehicle = zip(Make, Model, Color)\n",
    "\n",
    "# Creating vehicle function to return the info\n",
    "def displayVehicles():\n",
    "    print(tuple(Vehicle))\n",
    "    \n",
    "# Run the function which will display the vehicle information paired together"
   ]
  },
  {
   "cell_type": "code",
   "execution_count": 14,
   "metadata": {},
   "outputs": [
    {
     "name": "stdout",
     "output_type": "stream",
     "text": [
      "(('Honda', 'Civic', 'Blue'), ('Chevrolet', 'Silverado', 'White'), ('Ford', 'Escort', 'Red'), ('Subaru', 'Forester', 'Yellow'))\n"
     ]
    }
   ],
   "source": [
    "displayVehicles()"
   ]
  },
  {
   "cell_type": "code",
   "execution_count": null,
   "metadata": {},
   "outputs": [],
   "source": []
  }
 ],
 "metadata": {
  "kernelspec": {
   "display_name": "Python 3",
   "language": "python",
   "name": "python3"
  },
  "language_info": {
   "codemirror_mode": {
    "name": "ipython",
    "version": 3
   },
   "file_extension": ".py",
   "mimetype": "text/x-python",
   "name": "python",
   "nbconvert_exporter": "python",
   "pygments_lexer": "ipython3",
   "version": "3.7.3"
  }
 },
 "nbformat": 4,
 "nbformat_minor": 2
}
